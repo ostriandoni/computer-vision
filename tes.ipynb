{
 "cells": [
  {
   "cell_type": "code",
   "execution_count": 2,
   "metadata": {},
   "outputs": [],
   "source": [
    "import cv2"
   ]
  },
  {
   "cell_type": "code",
   "execution_count": 3,
   "metadata": {},
   "outputs": [],
   "source": [
    "img = cv2.imread('fun.JPG')"
   ]
  },
  {
   "cell_type": "code",
   "execution_count": null,
   "metadata": {},
   "outputs": [
    {
     "ename": "Error",
     "evalue": "Kernel is dead",
     "output_type": "error",
     "traceback": [
      "Error: Kernel is dead",
      "at g._sendKernelShellControl (/home/don/.vscode-server/extensions/ms-toolsai.jupyter-2021.9.1001312534/out/client/extension.js:52:1006305)",
      "at g.sendShellMessage (/home/don/.vscode-server/extensions/ms-toolsai.jupyter-2021.9.1001312534/out/client/extension.js:52:1006074)",
      "at g.requestExecute (/home/don/.vscode-server/extensions/ms-toolsai.jupyter-2021.9.1001312534/out/client/extension.js:52:1008616)",
      "at d.requestExecute (/home/don/.vscode-server/extensions/ms-toolsai.jupyter-2021.9.1001312534/out/client/extension.js:37:328037)",
      "at S.requestExecute (/home/don/.vscode-server/extensions/ms-toolsai.jupyter-2021.9.1001312534/out/client/extension.js:32:19215)",
      "at w.executeCodeCell (/home/don/.vscode-server/extensions/ms-toolsai.jupyter-2021.9.1001312534/out/client/extension.js:52:300924)",
      "at w.execute (/home/don/.vscode-server/extensions/ms-toolsai.jupyter-2021.9.1001312534/out/client/extension.js:52:300551)",
      "at w.start (/home/don/.vscode-server/extensions/ms-toolsai.jupyter-2021.9.1001312534/out/client/extension.js:52:296215)",
      "at runMicrotasks (<anonymous>)",
      "at processTicksAndRejections (internal/process/task_queues.js:93:5)",
      "at async t.CellExecutionQueue.executeQueuedCells (/home/don/.vscode-server/extensions/ms-toolsai.jupyter-2021.9.1001312534/out/client/extension.js:52:310950)",
      "at async t.CellExecutionQueue.start (/home/don/.vscode-server/extensions/ms-toolsai.jupyter-2021.9.1001312534/out/client/extension.js:52:310490)"
     ]
    }
   ],
   "source": [
    "cv2.imshow('fun.JPG', img)\n",
    "res = cv2.waitKey(6000)\n",
    "print(res)"
   ]
  },
  {
   "cell_type": "markdown",
   "metadata": {},
   "source": []
  }
 ],
 "metadata": {
  "interpreter": {
   "hash": "916dbcbb3f70747c44a77c7bcd40155683ae19c65e1c03b4aa3499c5328201f1"
  },
  "kernelspec": {
   "display_name": "Python 3.8.5 64-bit",
   "name": "python3"
  },
  "language_info": {
   "codemirror_mode": {
    "name": "ipython",
    "version": 3
   },
   "file_extension": ".py",
   "mimetype": "text/x-python",
   "name": "python",
   "nbconvert_exporter": "python",
   "pygments_lexer": "ipython3",
   "version": "3.8.5"
  },
  "orig_nbformat": 4
 },
 "nbformat": 4,
 "nbformat_minor": 2
}
